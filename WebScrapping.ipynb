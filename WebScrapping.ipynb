{
 "cells": [
  {
   "cell_type": "code",
   "execution_count": 1,
   "id": "52c7237b",
   "metadata": {},
   "outputs": [],
   "source": [
    "import requests, random\n",
    "from bs4 import BeautifulSoup\n",
    "from tkinter import *"
   ]
  },
  {
   "cell_type": "code",
   "execution_count": 2,
   "id": "5ed8a09a",
   "metadata": {},
   "outputs": [],
   "source": [
    "def pick_random_actor():\n",
    "    num=random.randint(1,1000)\n",
    "    zeroes=7-len(str(num))\n",
    "    retrieve_actor_data((\"0\"*zeroes)+str(num))"
   ]
  },
  {
   "cell_type": "code",
   "execution_count": 3,
   "id": "8a576df1",
   "metadata": {},
   "outputs": [],
   "source": [
    "def retrieve_actor_data(actor_num):\n",
    "    info_URL=\"https://www.imdb.com/name/nm\"+actor_num+\"/\"\n",
    "    movie_URL = \"https://www.imdb.com/filmosearch/?sort=num_votes&explore=title_type&role=nm\"+actor_num+\"&ref_=nm_flmg_shw_4\"\n",
    "    page = requests.get(info_URL)\n",
    "    soup = BeautifulSoup(page.content, 'html.parser')\n",
    "    name = soup.find_all('span', class_='itemprop')\n",
    "    name=str(name[0].text.strip())\n",
    "    age=soup.find(id=\"name-born-info\")\n",
    "    age=str(age.text.strip().replace(\"\\n\",\"\").replace(\"      \",\" \").replace(\"  \",\" \")).replace(\":\",\": \")\n",
    "    page = requests.get(movie_URL)\n",
    "    soup = BeautifulSoup(page.content, 'html.parser')\n",
    "    movies=soup.find_all(\"h3\", class_=\"lister-item-header\")\n",
    "    movie_1=movies[0].text.strip().replace(\"\\n\",\" \")\n",
    "    movie_2=movies[1].text.strip().replace(\"\\n\",\" \")\n",
    "    movie_3=movies[2].text.strip().replace(\"\\n\",\" \")\n",
    "    data=name+\"\\n\"+age+\"\\n\"+movie_1+\"\\n\"+movie_2+\"\\n\"+movie_3\n",
    "    info_label.configure(text=data)"
   ]
  },
  {
   "cell_type": "code",
   "execution_count": null,
   "id": "f3f39a42",
   "metadata": {},
   "outputs": [],
   "source": [
    "window=Tk()\n",
    "window.geometry(\"650x300\")\n",
    "the_canvas = Canvas(window,width=651,height=501, highlightthickness=0,bg=\"#2a75d5\")\n",
    "the_canvas.create_rectangle(0,220,650,300,fill=\"#5590DD\",outline=\"\")\n",
    "the_canvas.create_rectangle(0,250,650,270,fill=\"#832cd3\",outline=\"\")\n",
    "the_canvas.create_rectangle(0,0,651,65,fill=\"#5590DD\",outline=\"\")\n",
    "the_canvas.create_rectangle(0,0,651,55,fill=\"#832cd3\",outline=\"\")\n",
    "the_canvas.create_rectangle(0,0,530,45,fill=\"#5590DD\",outline=\"\")\n",
    "the_canvas.create_oval(510,0,550,44,fill=\"#5590DD\",outline=\"\")\n",
    "the_canvas.place(x=-1,y=-1)\n",
    "window.title(\"Random IMDB Profile Generator\")\n",
    "window.resizable(False, False)\n",
    "start_label=Label(text=\"  Random IMDB Profile Generator \",font=(\"fixedsys\",20),bg=\"#5590DD\",fg=\"white\")\n",
    "start_label.pack(side=LEFT, anchor=N)\n",
    "info_label=Label(text=\"Use this program to learn about people involved in movies and television! Press the button to show a new profile and three productions they were involved with!\",font=(\"fixedsys\",15),fg=\"white\",bg=\"#2a75d5\",wraplength=550,justify=LEFT)\n",
    "info_label.place(x=50,y=75)\n",
    "the_button=Button(text=\"NEW PROFILE\",font=(\"fixedsys\",20),borderwidth= 5,bg=\"#2a75d5\",fg=\"white\",command=pick_random_actor)\n",
    "the_button.place(x=50,y=230)\n",
    "window.mainloop()"
   ]
  },
  {
   "cell_type": "markdown",
   "id": "300fdb8c",
   "metadata": {},
   "source": [
    "It creates a graphical user interface (GUI) using the Tkinter library for generating random IMDB (Internet Movie Database) profiles. It allows us to retrieve information about actors and the movies or TV shows they have been involved with. \n",
    "\n",
    "1. Importing Libraries:\n",
    "   - `requests` and `random` are imported for making HTTP requests and generating random numbers, respectively.\n",
    "   - `BeautifulSoup` is imported from the `bs4` library for web scraping and parsing HTML content.\n",
    "   - `Tk` is imported from the `tkinter` library for creating the GUI.\n",
    "\n",
    "2. `pick_random_actor` Function:\n",
    "   - This function generates a random number between 1 and 1000.\n",
    "   - It ensures that the random number is formatted with leading zeros to have a length of 7 characters.\n",
    "   - Calls the `retrieve_actor_data` function with the formatted actor number.\n",
    "\n",
    "3. `retrieve_actor_data` Function:\n",
    "   - This function retrieves data about an actor's profile from IMDB.\n",
    "   - It constructs URLs based on the actor's unique number and fetches data from those URLs.\n",
    "   - Extracts information about the actor's name, age, and the top three movies/TV shows they have been involved in.\n",
    "   - Formats this information into a string.\n",
    "   - Sets the text of the `info_label` to display the actor's information.\n",
    "\n",
    "4. GUI Setup:\n",
    "   - The code sets up a graphical user interface (GUI) using Tkinter.\n",
    "   - It creates a window (`window`) and specifies its size, title, and makes it non-resizable.\n",
    "   - Creates a Canvas (`the_canvas`) to draw rectangles and ovals for visual styling.\n",
    "\n",
    "5. Styling:\n",
    "   - The GUI is styled with various rectangles and colors, creating a visually appealing layout.\n",
    "\n",
    "6. Labels and Buttons:\n",
    "   - `start_label` displays the program's title at the top of the window.\n",
    "   - `info_label` provides information about how to use the program and where the actor's data will be displayed.\n",
    "   - `the_button` is a button labeled \"NEW PROFILE,\" which triggers the `pick_random_actor` function when clicked.\n",
    "\n",
    "7. Main Loop:\n",
    "   - The program enters the Tkinter main loop using `window.mainloop()`, which keeps the GUI application running and responsive.\n",
    "\n",
    "On running this program, it creates a window with a \"NEW PROFILE\" button. Clicking the button will trigger the generation of a random IMDB actor profile, and the actor's information will be displayed in the `info_label` on the GUI. The program fetches data from IMDB using web scraping techniques and formats it for presentation in the GUI."
   ]
  },
  {
   "cell_type": "code",
   "execution_count": null,
   "id": "8b53afdb",
   "metadata": {},
   "outputs": [],
   "source": []
  }
 ],
 "metadata": {
  "kernelspec": {
   "display_name": "Python 3 (ipykernel)",
   "language": "python",
   "name": "python3"
  },
  "language_info": {
   "codemirror_mode": {
    "name": "ipython",
    "version": 3
   },
   "file_extension": ".py",
   "mimetype": "text/x-python",
   "name": "python",
   "nbconvert_exporter": "python",
   "pygments_lexer": "ipython3",
   "version": "3.9.13"
  }
 },
 "nbformat": 4,
 "nbformat_minor": 5
}
