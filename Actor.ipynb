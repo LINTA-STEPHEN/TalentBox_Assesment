{
 "cells": [
  {
   "cell_type": "code",
   "execution_count": 1,
   "id": "1497af84",
   "metadata": {},
   "outputs": [],
   "source": [
    "#pip install IMDbPY"
   ]
  },
  {
   "cell_type": "code",
   "execution_count": 2,
   "id": "d99f3cac",
   "metadata": {},
   "outputs": [],
   "source": [
    "# importing the module\n",
    "import imdb"
   ]
  },
  {
   "cell_type": "code",
   "execution_count": 3,
   "id": "f2edaa5e",
   "metadata": {},
   "outputs": [],
   "source": [
    "# creating instance of IMDb\n",
    "ia = imdb.IMDb()"
   ]
  },
  {
   "cell_type": "code",
   "execution_count": 4,
   "id": "842ca84c",
   "metadata": {},
   "outputs": [],
   "source": [
    "# person id\n",
    "code = \"1372788\""
   ]
  },
  {
   "cell_type": "code",
   "execution_count": 5,
   "id": "6666d9cc",
   "metadata": {},
   "outputs": [
    {
     "name": "stdout",
     "output_type": "stream",
     "text": [
      "Shahid Kapoor\n"
     ]
    }
   ],
   "source": [
    "# printing person name\n",
    "print(ia.get_person(code))"
   ]
  },
  {
   "cell_type": "code",
   "execution_count": 7,
   "id": "59bcdf96",
   "metadata": {},
   "outputs": [],
   "source": [
    "# getting information\n",
    "actor_results = ia.get_person_filmography(code)"
   ]
  },
  {
   "cell_type": "code",
   "execution_count": 8,
   "id": "95663318",
   "metadata": {},
   "outputs": [
    {
     "name": "stdout",
     "output_type": "stream",
     "text": [
      "Untitled Shahid Kapoor/Sanjay Leela Bhansali movie\n",
      "Untitled Shahid Kapoor/Vashu Bhagnani Project\n",
      "Awara Pagal Deewana 2\n",
      "Koi Shaq\n",
      "Spirit\n"
     ]
    }
   ],
   "source": [
    "# printing movie name\n",
    "for index in range(5):\n",
    "    movie_name = actor_results['data']['filmography']['actor'][index]\n",
    "    print(movie_name)"
   ]
  },
  {
   "cell_type": "code",
   "execution_count": null,
   "id": "b913b028",
   "metadata": {},
   "outputs": [],
   "source": []
  }
 ],
 "metadata": {
  "kernelspec": {
   "display_name": "Python 3 (ipykernel)",
   "language": "python",
   "name": "python3"
  },
  "language_info": {
   "codemirror_mode": {
    "name": "ipython",
    "version": 3
   },
   "file_extension": ".py",
   "mimetype": "text/x-python",
   "name": "python",
   "nbconvert_exporter": "python",
   "pygments_lexer": "ipython3",
   "version": "3.9.13"
  }
 },
 "nbformat": 4,
 "nbformat_minor": 5
}
